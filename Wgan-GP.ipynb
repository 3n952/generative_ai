{
 "cells": [
  {
   "cell_type": "markdown",
   "metadata": {},
   "source": [
    "## 와서스테인 GAN - Gradient penalty"
   ]
  },
  {
   "cell_type": "code",
   "execution_count": null,
   "metadata": {},
   "outputs": [],
   "source": [
    "import tensorflow as tf\n",
    "\n",
    "#gradient-penalty loss func\n",
    "\n",
    "def gradient_penalty(self, batch_size, real, fake):\n",
    "    alpha = tf.random.normal([batch_size, 1, 1, 1], 0.0, 1.0)\n",
    "    diff =  fake - real\n",
    "    # 보간 이미지\n",
    "    interpolation = real + alpha * diff\n",
    "\n",
    "    with tf.GradientTape() as tape:\n",
    "        tape.watch(interpolation)\n",
    "        pred = self.critic(interpolation, training = True)\n",
    "    \n",
    "    grads = tape.gradient(pred, [interpolation])[0]\n",
    "    norm = tf.sqrt(tf.reduce_sum(tf.square(grads), axis = [1, 2, 3]))\n",
    "    gp = tf.reduce_mean((norm - 1.0) ** 2)\n",
    "\n",
    "    return gp"
   ]
  },
  {
   "cell_type": "code",
   "execution_count": null,
   "metadata": {},
   "outputs": [],
   "source": []
  }
 ],
 "metadata": {
  "language_info": {
   "name": "python"
  }
 },
 "nbformat": 4,
 "nbformat_minor": 2
}
