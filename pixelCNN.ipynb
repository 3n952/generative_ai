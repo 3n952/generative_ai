{
 "cells": [
  {
   "cell_type": "markdown",
   "metadata": {},
   "source": [
    "## pixelCNN -> masked conv layer, residual block"
   ]
  },
  {
   "cell_type": "code",
   "execution_count": 1,
   "metadata": {},
   "outputs": [],
   "source": [
    "from tensorflow.keras import layers\n",
    "import numpy as np\n",
    "\n",
    "# masked conv layer\n",
    "\n",
    "class Maskedconvlayer(layers.Layer):\n",
    "    def __init__(self, mask_type, **kwargs):\n",
    "        super(Maskedconvlayer, self).__init__()\n",
    "        self.mask_type = mask_type\n",
    "        self.conv = layers.Conv2D(**kwargs)\n",
    "    \n",
    "    def build(self, input_shape):\n",
    "        self.conv_build(input_shape)\n",
    "        kernel_shape = self.conv.kernel.get_shape()\n",
    "        self.mask = np.zeros(shape = kernel_shape)\n",
    "        self.mask[: kernel_shape[0] // 2, ...] = 1.0\n",
    "        self.mask[kernel_shape[0] // 2, :kernel_shape[1] // 2, ...] = 1.0\n",
    "        if self.mask_type == 'B':\n",
    "            self.mask[kernel_shape[0] // 2, kernel_shape[1] // 2, ... ] = 1.0\n",
    "        \n",
    "    def call(self, inputs):\n",
    "        self.conv.kernel.assign(self.conv.kernel * self.mask)\n",
    "        return self.conv(inputs)\n"
   ]
  },
  {
   "cell_type": "code",
   "execution_count": null,
   "metadata": {},
   "outputs": [],
   "source": [
    "# Residual block \n",
    "\n",
    "\n",
    "class Residualblock(layers.Layer):\n",
    "    def __init__(self, filters, **kwargs):\n",
    "        super(Residualblock, self).__init__(**kwargs)\n",
    "        self.conv1 = layers.Conv2D(filters = filters // 2, kernel_size = 1, activation = 'relu')\n",
    "        self.pixel_conv = layers.MaskedConv2D(mask_type = 'B', filters = filters // 2, kernel_size = 3, activation = 'relu', padding = 'same')\n",
    "        self.conv2 = layers.Conv2D(filters = filters, kernel_size = 1, activation = 'relu')\n",
    "    \n",
    "    def call(self, inputs):\n",
    "        x = self.conv1(inputs)\n",
    "        x = self.pixel_conv(x)\n",
    "        x = self.conv2(x)\n",
    "        return layers.add([inputs, x])\n",
    "    \n"
   ]
  }
 ],
 "metadata": {
  "kernelspec": {
   "display_name": "aiffel",
   "language": "python",
   "name": "python3"
  },
  "language_info": {
   "codemirror_mode": {
    "name": "ipython",
    "version": 3
   },
   "file_extension": ".py",
   "mimetype": "text/x-python",
   "name": "python",
   "nbconvert_exporter": "python",
   "pygments_lexer": "ipython3",
   "version": "3.8.18"
  }
 },
 "nbformat": 4,
 "nbformat_minor": 2
}
